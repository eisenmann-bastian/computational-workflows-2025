{
 "cells": [
  {
   "cell_type": "markdown",
   "metadata": {},
   "source": [
    "# Computational Workflows for biomedical data"
   ]
  },
  {
   "cell_type": "markdown",
   "metadata": {},
   "source": [
    "Welcome to the course Computational Workflows for Biomedical Data. Over the next two weeks, you will learn how to leverage nf-core pipelines to analyze biomedical data and gain hands-on experience in creating your own pipelines, with a strong emphasis on Nextflow and nf-core.\n",
    "\n",
    "Course Structure:\n",
    "\n",
    "- Week 1: You will use a variety of nf-core pipelines to analyze a publicly available biomedical study.\n",
    "- Week 2: We will shift focus to learning the basics of Nextflow, enabling you to design and implement your own computational workflows.<br>\n",
    "- Final Project: The last couple of days, you will apply your knowledge to create a custom pipeline for analyzing biomedical data using Nextflow and the nf-core template."
   ]
  },
  {
   "cell_type": "markdown",
   "metadata": {},
   "source": [
    "## Basics\n",
    "\n",
    "If you have not installed all required software, please do so now asap!\n",
    "\n",
    "\n",
    "If you already installed all software, please go on and start answering the questions in this notebook. If you have any questions, don't hesitate to approach us."
   ]
  },
  {
   "cell_type": "markdown",
   "metadata": {},
   "source": [
    "1. What is nf-core?"
   ]
  },
  {
   "cell_type": "markdown",
   "metadata": {
    "vscode": {
     "languageId": "plaintext"
    }
   },
   "source": [
    "nf-core is a community-driven effort that provides standardized guidelines and curated, pre-built workflows to improve productivity and ensure reproducibility in biomedical data analysis."
   ]
  },
  {
   "cell_type": "markdown",
   "metadata": {},
   "source": [
    "2. How many pipelines are there currently in nf-core?"
   ]
  },
  {
   "cell_type": "markdown",
   "metadata": {},
   "source": [
    "139 pipelines (84 Released, 43 Under development, 12 Archived)"
   ]
  },
  {
   "cell_type": "markdown",
   "metadata": {},
   "source": [
    "3. Are there any non-bioinformatic pipelines in nf-core?"
   ]
  },
  {
   "cell_type": "markdown",
   "metadata": {},
   "source": [
    "No, there are none non-bioinformatic pipelines included in nf-core."
   ]
  },
  {
   "cell_type": "markdown",
   "metadata": {},
   "source": [
    "4. Let's go back a couple of steps. What is a pipeline and what do we use it for?"
   ]
  },
  {
   "cell_type": "markdown",
   "metadata": {},
   "source": [
    "Pipelines enable reproducible execution of workflows by defining them as reusable code in a domain-specific language (DSL) based on Groovy/Java.\n",
    "\n",
    "A process generally represents a single execution of a tool, which takes n inputs and produces m outputs. A workflow organizes multiple processes into a higher-level structure, while a pipeline can combine several workflows into a complete analysis.\n",
    "\n",
    "Workflows can be reused across different pipelines (e.g., a workflow for quality control of FASTA files). Pipelines themselves can be shared, further enhancing reusability and supporting the execution of complete analysis workflows."
   ]
  },
  {
   "cell_type": "markdown",
   "metadata": {},
   "source": [
    "5. Why do you think nf-core adheres to strict guidelines?"
   ]
  },
  {
   "cell_type": "markdown",
   "metadata": {},
   "source": [
    "nf-core pipelines are developed by an open-source community. Strict guidelines ensure consistent development and usage practices, enhancing both quality and reusability. Standardization further guarantees a uniform level of quality across the framework, improving reliability and reproducibility."
   ]
  },
  {
   "cell_type": "markdown",
   "metadata": {
    "vscode": {
     "languageId": "plaintext"
    }
   },
   "source": [
    "6. What are the main features of nf-core pipelines?"
   ]
  },
  {
   "cell_type": "markdown",
   "metadata": {},
   "source": [
    "The main purpose of nf-core pipelines is to enhance reproducibility. They can be run on different machines and allow workload distribution across various computing environments. All pipelines are open source, so users can not only configure them by changing parameters but also modify the code and actively contribute to the community. Additionally, many pipeline parameters are standardized, and the pipelines themselves follow strict quality guidelines, with updates and improvements reviewed through community pull requests."
   ]
  },
  {
   "cell_type": "markdown",
   "metadata": {
    "vscode": {
     "languageId": "plaintext"
    }
   },
   "source": [
    "## Let's start using the pipelines"
   ]
  },
  {
   "cell_type": "markdown",
   "metadata": {},
   "source": [
    "1. Find the nf-core pipeline used to measure differential abundance of genes"
   ]
  },
  {
   "cell_type": "markdown",
   "metadata": {},
   "source": [
    "nf-core/differentialabundance"
   ]
  },
  {
   "cell_type": "code",
   "execution_count": null,
   "metadata": {},
   "outputs": [],
   "source": [
    "# run the pipeline in a cell \n",
    "# to run bash in jupyter notebooks, simply use ! before the command\n",
    "# e.g.\n",
    "!pwd\n",
    "\n",
    "# fails due: gtf2featureAnnotation.R: command not found -> let´s use conda\n",
    "!nextflow run nf-core/differentialabundance -r 1.5.0 -profile test --outdir task_01\n",
    "\n",
    "# fails due: Conda environment file does not exist: modules/nf-core/gunzip/environment.yml -> let´s use docker (next task)\n",
    "!nextflow run nf-core/differentialabundance -r 1.5.0 -profile test,conda --outdir task_01\n",
    "\n",
    "# For the tasks in the first week, please use the command line to run your commands and simply paste the commands you used in the respective cells!\n"
   ]
  },
  {
   "cell_type": "code",
   "execution_count": null,
   "metadata": {},
   "outputs": [],
   "source": [
    "# run the pipeline in the test profile using docker containers\n",
    "# make sure to specify the version you want to use (use the latest one)\n",
    "\n",
    "!nextflow run nf-core/differentialabundance -r 1.5.0 -profile test,docker --outdir task02"
   ]
  },
  {
   "cell_type": "code",
   "execution_count": null,
   "metadata": {},
   "outputs": [],
   "source": [
    "# repeat the run. What did change?\n",
    "New log file is generated. The run is much faster as the containers are already downloaded and cached.\n",
    "Output files are overwritten. However, the generated files are the same."
   ]
  },
  {
   "cell_type": "code",
   "execution_count": null,
   "metadata": {},
   "outputs": [],
   "source": [
    "# now set -resume to the command. What did change?\n",
    "!nextflow run nf-core/differentialabundance -r 1.5.0 -profile test,docker --outdir task02 -resume\n",
    "Most of the steps are skipped as the results are already there.\n",
    "Only the final steps are executed again and the log file is updated."
   ]
  },
  {
   "cell_type": "markdown",
   "metadata": {},
   "source": [
    "Check out the current directory. Next to the outdir you specified, what else has changed?"
   ]
  },
  {
   "cell_type": "markdown",
   "metadata": {},
   "source": [
    "Running the pipeline generates a .nextflow directory (containing metadata, execution reports, and pipeline state), a work directory (containing intermediate results and temporary task files), and log files for each run."
   ]
  },
  {
   "cell_type": "markdown",
   "metadata": {},
   "source": [
    "# delete the work directory and run the pipeline again using -resume. What did change?\n",
    "\n",
    "\n",
    "Again, all of the workflows were executed and not skipped by taking the results from the cache."
   ]
  },
  {
   "cell_type": "markdown",
   "metadata": {},
   "source": [
    "## Lets look at the results"
   ]
  },
  {
   "cell_type": "markdown",
   "metadata": {},
   "source": [
    "### What is differential abundance analysis?"
   ]
  },
  {
   "cell_type": "markdown",
   "metadata": {},
   "source": [
    "Differential abundance analysis compares the relative abundance of specific features across different groups to identify those showing significant changes (e.g., a gene whose expression differs markedly between healthy and diseased patients)."
   ]
  },
  {
   "cell_type": "markdown",
   "metadata": {},
   "source": [
    "Give the most important plots from the report:"
   ]
  },
  {
   "cell_type": "markdown",
   "metadata": {},
   "source": [
    "![volcano-plot](./plots/differential/treatment_mCherry_hND6_/png/volcano.png)"
   ]
  },
  {
   "cell_type": "markdown",
   "metadata": {},
   "source": [
    "![volcano-plot](./plots/exploratory/treatment/png/pca2d.png)"
   ]
  }
 ],
 "metadata": {
  "kernelspec": {
   "display_name": "computational_workflows",
   "language": "python",
   "name": "python3"
  },
  "language_info": {
   "codemirror_mode": {
    "name": "ipython",
    "version": 3
   },
   "file_extension": ".py",
   "mimetype": "text/x-python",
   "name": "python",
   "nbconvert_exporter": "python",
   "pygments_lexer": "ipython3",
   "version": "3.13.7"
  }
 },
 "nbformat": 4,
 "nbformat_minor": 2
}
