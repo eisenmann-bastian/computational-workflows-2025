{
 "cells": [
  {
   "cell_type": "markdown",
   "metadata": {},
   "source": [
    "## Great, now that we discussed a little let's continue"
   ]
  },
  {
   "cell_type": "markdown",
   "metadata": {},
   "source": [
    "Given that the current approach utilized by the authors lacks reproducibility, we will explore an alternative method by leveraging nf-core pipelines for data analysis.\n",
    "\n",
    "Please explain, how we will achieve reproducibility for the course  with this approach.\n"
   ]
  },
  {
   "cell_type": "markdown",
   "metadata": {},
   "source": [
    "When using nf-core pipelines, we can:\n",
    "- Configure the used docker container + version\n",
    "- Configure the used pipeline + version\n",
    "\n",
    "And provide the parameters + input files we have used. Overall, the pipeline could be run in exactly the same way at any time at any system."
   ]
  },
  {
   "cell_type": "markdown",
   "metadata": {},
   "source": [
    "You have successfully downloaded 2 of the fastq files we will use in our study.\n",
    "\n",
    "What is the next step if we want to first have a count table and check the quality of our fastq files? What is the pipeline called to do so?"
   ]
  },
  {
   "cell_type": "markdown",
   "metadata": {},
   "source": [
    "We need to count of number of transcriptomes per gene across all reads. In addition, a quality control step must be performed. (in general usage of FastQC)\n",
    "\n",
    "nf-core/rnaseq"
   ]
  },
  {
   "cell_type": "markdown",
   "metadata": {},
   "source": [
    "Analyze the 2 files using an nf-core pipeline.\n",
    "\n",
    "What does this pipeline do?\n",
    "nf-core/rnaseq takes raw RNA-seq FASTQ files and produces clean, QC’d, quantified expression data plus reports — the standard starting point for downstream analyses like differential expression\n",
    "\n",
    "Which are the main tools that will be used in the pipeline?\n",
    "\n",
    "\n",
    "Salmon and FastQC in combination with MultiQC "
   ]
  },
  {
   "cell_type": "markdown",
   "metadata": {},
   "source": [
    "As all other nf-core pipelines, the chosen pipeline takes in a samplesheet as input.\n",
    "\n",
    "Use Python and pandas to create the samplesheet for your 2 samples. Feel free to make use of the table you created earlier today.\n",
    "\n",
    "Choose your sample names wisely, they must be the connection of the results to the metadata. If you can't find the sample in the metadata later, the analysis was useless."
   ]
  },
  {
   "cell_type": "code",
   "execution_count": null,
   "metadata": {},
   "outputs": [],
   "source": [
    "!nextflow run \\\n",
    "    nf-core/rnaseq \\\n",
    "    -profile docker \\\n",
    "    -c custom.config \\\n",
    "    -resume \\\n",
    "    --input ./SRFetch_results/samplesheet/samplesheet.csv \\\n",
    "    --outdir output \\\n",
    "    --gtf genomic.gtf \\\n",
    "    --fasta GCF_000001635.27_GRCm39_genomic.fna "
   ]
  },
  {
   "cell_type": "markdown",
   "metadata": {},
   "source": [
    "Explain all the parameters you set and why you set them in this way.\n",
    "\n"
   ]
  },
  {
   "cell_type": "markdown",
   "metadata": {},
   "source": [
    "| Parameter | Value | Explanation |\n",
    "|-----------|-------|-------------|\n",
    "| `!nextflow run` | `nf-core/rnaseq` | Tells Nextflow to run the **nf-core/rnaseq** pipeline, which is a best-practice RNA-seq analysis workflow. |\n",
    "| `-profile` | `docker` | Ensures all tools are run inside Docker containers for **reproducibility** and avoiding dependency issues. |\n",
    "| `-c` | `custom.config` | Loads a custom Nextflow configuration file. Useful for defining compute resources, paths, or environment-specific settings. |\n",
    "| `-resume` | *(no value)* | Restarts the pipeline from the last successful step. Prevents re-running completed jobs if execution was interrupted. |\n",
    "| `--input` | `./SRFetch_results/samplesheet/samplesheet.csv` | Path to the input sample sheet in CSV format. Defines metadata and paths to raw FASTQ files. |\n",
    "| `--outdir` | `output` | Directory where all pipeline results (QC, alignments, quantifications, reports) will be stored. |\n",
    "| `--gtf` | `genomic.gtf` | Gene annotation file in **GTF format**. Required for assigning reads to genes and transcripts. (Downloaded from NCBI)|\n",
    "| `--fasta` | `GCF_000001635.27_GRCm39_genomic.fna` | Reference genome in FASTA format. Used for read alignment or to build Salmon/STAR indices. (Downloaded from NCBI)|"
   ]
  },
  {
   "cell_type": "markdown",
   "metadata": {},
   "source": [
    "## Browsing the results"
   ]
  },
  {
   "cell_type": "markdown",
   "metadata": {},
   "source": [
    "### PIPELINE HAS NOT EXECUTED SUCCESSFULLY ON MY MACHINE ###"
   ]
  },
  {
   "cell_type": "markdown",
   "metadata": {},
   "source": [
    "How did the pipeline perform?"
   ]
  },
  {
   "cell_type": "markdown",
   "metadata": {},
   "source": []
  },
  {
   "cell_type": "markdown",
   "metadata": {},
   "source": [
    "Explain the quality control steps. Are you happy with the quality and why. If not, why not.\n",
    "Please give additional information on : \n",
    "- ribosomal rRNA\n",
    "- Duplication\n",
    "- GC content\n",
    "\n",
    "What are the possible steps that could lead to poorer results?"
   ]
  },
  {
   "cell_type": "markdown",
   "metadata": {},
   "source": []
  },
  {
   "cell_type": "markdown",
   "metadata": {},
   "source": [
    "Would you exclude any samples? If yes, which and why?"
   ]
  },
  {
   "cell_type": "code",
   "execution_count": null,
   "metadata": {},
   "outputs": [],
   "source": []
  },
  {
   "cell_type": "markdown",
   "metadata": {},
   "source": [
    "What would you now do to continue the experiment? What are the scientists trying to figure out? Which packages on R or python would you use?"
   ]
  },
  {
   "cell_type": "markdown",
   "metadata": {},
   "source": []
  },
  {
   "cell_type": "markdown",
   "metadata": {},
   "source": []
  }
 ],
 "metadata": {
  "kernelspec": {
   "display_name": "work",
   "language": "python",
   "name": "python3"
  },
  "language_info": {
   "codemirror_mode": {
    "name": "ipython",
    "version": 3
   },
   "file_extension": ".py",
   "mimetype": "text/x-python",
   "name": "python",
   "nbconvert_exporter": "python",
   "pygments_lexer": "ipython3",
   "version": "3.10.13"
  }
 },
 "nbformat": 4,
 "nbformat_minor": 2
}
