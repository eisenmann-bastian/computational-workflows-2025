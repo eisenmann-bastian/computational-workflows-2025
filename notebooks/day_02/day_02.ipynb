{
 "cells": [
  {
   "cell_type": "markdown",
   "metadata": {},
   "source": [
    "# Day 2\n",
    "\n",
    "Today, we will start using nf-core pipelines to find differentially abundant genes in our dataset. \n",
    "We are using data from the following paper: https://www.nature.com/articles/s41593-023-01350-3#Sec10"
   ]
  },
  {
   "cell_type": "markdown",
   "metadata": {
    "vscode": {
     "languageId": "plaintext"
    }
   },
   "source": [
    "1. Please take some time to read through the paper and understand their approach, hypotheses and goals."
   ]
  },
  {
   "cell_type": "markdown",
   "metadata": {
    "vscode": {
     "languageId": "plaintext"
    }
   },
   "source": [
    "What was the objective of the study?"
   ]
  },
  {
   "cell_type": "code",
   "execution_count": null,
   "metadata": {},
   "outputs": [],
   "source": [
    "Explore and understand transcriptonic effect of oxicodone. "
   ]
  },
  {
   "cell_type": "markdown",
   "metadata": {
    "vscode": {
     "languageId": "plaintext"
    }
   },
   "source": [
    "What do the conditions mean?"
   ]
  },
  {
   "cell_type": "markdown",
   "metadata": {},
   "source": [
    "Got treatmant or not.\n",
    "\n",
    "oxy:\n",
    "Oxicodone (Reference Group)\n",
    "\n",
    "sal:\n",
    "Oxicodone (Control Group)\n"
   ]
  },
  {
   "cell_type": "markdown",
   "metadata": {},
   "source": [
    "What do the genotypes mean?"
   ]
  },
  {
   "cell_type": "markdown",
   "metadata": {},
   "source": [
    "SNI:\n",
    "... Nerve Injury (Chronic Pain)\n",
    "\n",
    "Sham:\n",
    "also surgery but not a nerve injury ()"
   ]
  },
  {
   "cell_type": "markdown",
   "metadata": {},
   "source": [
    "Imagine you are the bioinformatician in the group who conducted this study. They hand you the raw files and ask you to analyze them.\n",
    "\n",
    "What would you do?\n",
    "\n",
    "Which groups would you compare to each other?\n",
    "\n",
    "Please also mention which outcome you would expect to see from each comparison."
   ]
  },
  {
   "cell_type": "markdown",
   "metadata": {},
   "source": [
    "Your group gave you a very suboptimal excel sheet (conditions_runs_oxy_project.xlsx) to get the information you need for each run they uploaded to the SRA.<br>\n",
    "So, instead of directly diving into downloading the data and starting the analysis, you first need to sort the lazy table.<br>\n",
    "Use Python and Pandas to get the table into a more sensible order.<br>\n",
    "Then, perform some overview analysis and plot the results\n",
    "1. How many samples do you have per condition?\n",
    "2. How many samples do you have per genotype?\n",
    "3. How often do you have each condition per genotype?"
   ]
  },
  {
   "cell_type": "code",
   "execution_count": null,
   "metadata": {},
   "outputs": [
    {
     "name": "stdout",
     "output_type": "stream",
     "text": [
      "            Patient  RNA-seq  DNA-seq  condition: Sal  Condition: Oxy  \\\n",
      "Run                                                                     \n",
      "SRR23195505       ?     True    False            True           False   \n",
      "SRR23195506       ?     True    False           False            True   \n",
      "SRR23195507       ?     True    False            True           False   \n",
      "SRR23195508       ?     True    False           False            True   \n",
      "SRR23195509       ?     True    False           False            True   \n",
      "\n",
      "             Genotype: SNI  Genotype: Sham condition genotype  \n",
      "Run                                                            \n",
      "SRR23195505           True           False       Sal      SNI  \n",
      "SRR23195506          False            True       Oxy     Sham  \n",
      "SRR23195507          False            True       Sal     Sham  \n",
      "SRR23195508           True           False       Oxy      SNI  \n",
      "SRR23195509           True           False       Oxy      SNI  \n"
     ]
    },
    {
     "name": "stderr",
     "output_type": "stream",
     "text": [
      "/var/folders/ml/pqmgm7zn4257t4bl2n8dv9d80000gn/T/ipykernel_2757/1551757409.py:7: FutureWarning: Downcasting object dtype arrays on .fillna, .ffill, .bfill is deprecated and will change in a future version. Call result.infer_objects(copy=False) instead. To opt-in to the future behavior, set `pd.set_option('future.no_silent_downcasting', True)`\n",
      "  df = df.fillna(False)\n",
      "/var/folders/ml/pqmgm7zn4257t4bl2n8dv9d80000gn/T/ipykernel_2757/1551757409.py:8: FutureWarning: Downcasting behavior in `replace` is deprecated and will be removed in a future version. To retain the old behavior, explicitly call `result.infer_objects(copy=False)`. To opt-in to the future behavior, set `pd.set_option('future.no_silent_downcasting', True)`\n",
      "  df = df.replace(\"x\", True)\n"
     ]
    }
   ],
   "source": [
    "import pandas as pd\n",
    "import numpy as np\n",
    "\n",
    "df = pd.read_excel(\"conditions_runs_oxy_project.xlsx\", index_col=\"Run\")\n",
    "# Show first rows\n",
    "\n",
    "df = df.fillna(False)\n",
    "df = df.replace(\"x\", True)\n",
    "\n",
    "df['condition'] = np.select(\n",
    "    condlist=[\n",
    "        df[\"condition: Sal\"] == 1,\n",
    "        df[\"Condition: Oxy\"] == 1\n",
    "    ],\n",
    "    choicelist=[\"Sal\", \"Oxy\"],\n",
    "    default=None\n",
    ")\n",
    "    \n",
    "df['genotype'] = np.select(\n",
    "    condlist=[\n",
    "        df[\"Genotype: SNI\"] == 1,\n",
    "        df[\"Genotype: Sham\"] == 1\n",
    "    ],\n",
    "    choicelist=[\"SNI\", \"Sham\"],\n",
    "    default=None\n",
    ")\n",
    "\n",
    "df = df.drop(columns=[\"condition: Sal\", \"Condition: Oxy\", \"Genotype: SNI\", \"Genotype: Sham\"])\n",
    "\n",
    "print(df.head())\n",
    "\n",
    "\n",
    "def print_non_na_counts(df, condition):\n",
    "    non_na_count = df[condition].notna().sum()\n",
    "    print(f\"{condition}: {non_na_count}\")"
   ]
  },
  {
   "cell_type": "code",
   "execution_count": null,
   "metadata": {},
   "outputs": [
    {
     "name": "stdout",
     "output_type": "stream",
     "text": [
      "condition: Sal: 8\n",
      "Condition: Oxy: 8\n"
     ]
    }
   ],
   "source": [
    "for condition in ['condition: Sal',\t'Condition: Oxy']:\n",
    "    print_non_na_counts(df, condition)"
   ]
  },
  {
   "cell_type": "code",
   "execution_count": null,
   "metadata": {},
   "outputs": [
    {
     "name": "stdout",
     "output_type": "stream",
     "text": [
      "Genotype: SNI: 8\n",
      "Genotype: Sham: 8\n"
     ]
    }
   ],
   "source": [
    "for geno_type in ['Genotype: SNI', 'Genotype: Sham']:\n",
    "    print_non_na_counts(df, geno_type)"
   ]
  },
  {
   "cell_type": "code",
   "execution_count": null,
   "metadata": {},
   "outputs": [],
   "source": []
  },
  {
   "cell_type": "markdown",
   "metadata": {},
   "source": [
    "They were so kind to also provide you with the information of the number of bases per run, so that you can know how much space the data will take on your Cluster.<br>\n",
    "Add a new column to your fancy table with this information (base_counts.csv) and sort your dataframe according to this information and the condition.\n",
    "\n",
    "Then select the 2 smallest runs from your dataset and download them from SRA (maybe an nf-core pipeline can help here?...)"
   ]
  },
  {
   "cell_type": "code",
   "execution_count": null,
   "metadata": {},
   "outputs": [],
   "source": []
  },
  {
   "cell_type": "code",
   "execution_count": null,
   "metadata": {},
   "outputs": [],
   "source": []
  },
  {
   "cell_type": "code",
   "execution_count": null,
   "metadata": {},
   "outputs": [],
   "source": []
  },
  {
   "cell_type": "markdown",
   "metadata": {},
   "source": [
    "While your files are downloading, get back to the paper and explain how you would try to reproduce the analysis.<br>\n",
    "When you are done with this shout, so we can discuss the different ideas."
   ]
  }
 ],
 "metadata": {
  "kernelspec": {
   "display_name": "computational_workflows",
   "language": "python",
   "name": "python3"
  },
  "language_info": {
   "codemirror_mode": {
    "name": "ipython",
    "version": 3
   },
   "file_extension": ".py",
   "mimetype": "text/x-python",
   "name": "python",
   "nbconvert_exporter": "python",
   "pygments_lexer": "ipython3",
   "version": "3.13.7"
  }
 },
 "nbformat": 4,
 "nbformat_minor": 2
}
