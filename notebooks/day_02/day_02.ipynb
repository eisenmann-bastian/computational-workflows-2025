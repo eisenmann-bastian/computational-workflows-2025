{
 "cells": [
  {
   "cell_type": "markdown",
   "metadata": {},
   "source": [
    "# Day 2\n",
    "\n",
    "Today, we will start using nf-core pipelines to find differentially abundant genes in our dataset. \n",
    "We are using data from the following paper: https://www.nature.com/articles/s41593-023-01350-3#Sec10"
   ]
  },
  {
   "cell_type": "markdown",
   "metadata": {
    "vscode": {
     "languageId": "plaintext"
    }
   },
   "source": [
    "1. Please take some time to read through the paper and understand their approach, hypotheses and goals."
   ]
  },
  {
   "cell_type": "markdown",
   "metadata": {
    "vscode": {
     "languageId": "plaintext"
    }
   },
   "source": [
    "What was the objective of the study?"
   ]
  },
  {
   "cell_type": "code",
   "execution_count": null,
   "metadata": {},
   "outputs": [],
   "source": [
    "How oxycodone withdrawal affects gene expression in brain reward circuits (NAc, mPFC, VTA) under conditions of chronic neuropathic pain."
   ]
  },
  {
   "cell_type": "markdown",
   "metadata": {
    "vscode": {
     "languageId": "plaintext"
    }
   },
   "source": [
    "What do the conditions mean?"
   ]
  },
  {
   "cell_type": "markdown",
   "metadata": {},
   "source": [
    "Difference treatments the mices got:\n",
    "\n",
    "\n",
    "oxy: Oxicodone (Reference Group)\n",
    "\n",
    "sal: Saline (Control Group)"
   ]
  },
  {
   "cell_type": "markdown",
   "metadata": {},
   "source": [
    "What do the genotypes mean?"
   ]
  },
  {
   "cell_type": "markdown",
   "metadata": {},
   "source": [
    "SNI:\n",
    "spared nerve injury (SNI) (Chronic Pain)\n",
    "\n",
    "Sham:\n",
    "sham controls - also surgery but not a nerve injury (None Chronic Pain)"
   ]
  },
  {
   "cell_type": "markdown",
   "metadata": {},
   "source": [
    "Imagine you are the bioinformatician in the group who conducted this study. They hand you the raw files and ask you to analyze them.\n",
    "\n",
    "What would you do?\n",
    "Which groups would you compare to each other?\n",
    "\n",
    "I would try to find out if there exist any relations between the transcriptome related to the treatments and the genotypes. Afterwards, I would follow up with identifying the most relevant ones.\n",
    "\n",
    "Please also mention which outcome you would expect to see from each comparison.\n",
    "\n",
    "I expect the most transcriptomical change in the case of oxy-SNI compared to all other groups. The brain should get be used to the beneficial pain reducing effect of oxy. "
   ]
  },
  {
   "cell_type": "markdown",
   "metadata": {},
   "source": [
    "Your group gave you a very suboptimal excel sheet (conditions_runs_oxy_project.xlsx) to get the information you need for each run they uploaded to the SRA.<br>\n",
    "So, instead of directly diving into downloading the data and starting the analysis, you first need to sort the lazy table.<br>\n",
    "Use Python and Pandas to get the table into a more sensible order.<br>\n",
    "Then, perform some overview analysis and plot the results\n",
    "1. How many samples do you have per condition?\n",
    "2. How many samples do you have per genotype?\n",
    "3. How often do you have each condition per genotype?"
   ]
  },
  {
   "cell_type": "code",
   "execution_count": 24,
   "metadata": {},
   "outputs": [
    {
     "name": "stderr",
     "output_type": "stream",
     "text": [
      "/var/folders/ml/pqmgm7zn4257t4bl2n8dv9d80000gn/T/ipykernel_2757/3668940756.py:7: FutureWarning: Downcasting object dtype arrays on .fillna, .ffill, .bfill is deprecated and will change in a future version. Call result.infer_objects(copy=False) instead. To opt-in to the future behavior, set `pd.set_option('future.no_silent_downcasting', True)`\n",
      "  df = df.fillna(False)\n",
      "/var/folders/ml/pqmgm7zn4257t4bl2n8dv9d80000gn/T/ipykernel_2757/3668940756.py:8: FutureWarning: Downcasting behavior in `replace` is deprecated and will be removed in a future version. To retain the old behavior, explicitly call `result.infer_objects(copy=False)`. To opt-in to the future behavior, set `pd.set_option('future.no_silent_downcasting', True)`\n",
      "  df = df.replace(\"x\", True)\n"
     ]
    },
    {
     "data": {
      "application/vnd.microsoft.datawrangler.viewer.v0+json": {
       "columns": [
        {
         "name": "Run",
         "rawType": "object",
         "type": "string"
        },
        {
         "name": "Patient",
         "rawType": "object",
         "type": "string"
        },
        {
         "name": "RNA-seq",
         "rawType": "bool",
         "type": "boolean"
        },
        {
         "name": "DNA-seq",
         "rawType": "bool",
         "type": "boolean"
        },
        {
         "name": "condition",
         "rawType": "object",
         "type": "string"
        },
        {
         "name": "geno_type",
         "rawType": "object",
         "type": "string"
        }
       ],
       "ref": "c33f220d-df42-4c90-be4e-5f490d764f2c",
       "rows": [
        [
         "SRR23195505",
         "?",
         "True",
         "False",
         "Sal",
         "SNI"
        ],
        [
         "SRR23195506",
         "?",
         "True",
         "False",
         "Oxy",
         "Sham"
        ],
        [
         "SRR23195507",
         "?",
         "True",
         "False",
         "Sal",
         "Sham"
        ],
        [
         "SRR23195508",
         "?",
         "True",
         "False",
         "Oxy",
         "SNI"
        ],
        [
         "SRR23195509",
         "?",
         "True",
         "False",
         "Oxy",
         "SNI"
        ]
       ],
       "shape": {
        "columns": 5,
        "rows": 5
       }
      },
      "text/html": [
       "<div>\n",
       "<style scoped>\n",
       "    .dataframe tbody tr th:only-of-type {\n",
       "        vertical-align: middle;\n",
       "    }\n",
       "\n",
       "    .dataframe tbody tr th {\n",
       "        vertical-align: top;\n",
       "    }\n",
       "\n",
       "    .dataframe thead th {\n",
       "        text-align: right;\n",
       "    }\n",
       "</style>\n",
       "<table border=\"1\" class=\"dataframe\">\n",
       "  <thead>\n",
       "    <tr style=\"text-align: right;\">\n",
       "      <th></th>\n",
       "      <th>Patient</th>\n",
       "      <th>RNA-seq</th>\n",
       "      <th>DNA-seq</th>\n",
       "      <th>condition</th>\n",
       "      <th>geno_type</th>\n",
       "    </tr>\n",
       "    <tr>\n",
       "      <th>Run</th>\n",
       "      <th></th>\n",
       "      <th></th>\n",
       "      <th></th>\n",
       "      <th></th>\n",
       "      <th></th>\n",
       "    </tr>\n",
       "  </thead>\n",
       "  <tbody>\n",
       "    <tr>\n",
       "      <th>SRR23195505</th>\n",
       "      <td>?</td>\n",
       "      <td>True</td>\n",
       "      <td>False</td>\n",
       "      <td>Sal</td>\n",
       "      <td>SNI</td>\n",
       "    </tr>\n",
       "    <tr>\n",
       "      <th>SRR23195506</th>\n",
       "      <td>?</td>\n",
       "      <td>True</td>\n",
       "      <td>False</td>\n",
       "      <td>Oxy</td>\n",
       "      <td>Sham</td>\n",
       "    </tr>\n",
       "    <tr>\n",
       "      <th>SRR23195507</th>\n",
       "      <td>?</td>\n",
       "      <td>True</td>\n",
       "      <td>False</td>\n",
       "      <td>Sal</td>\n",
       "      <td>Sham</td>\n",
       "    </tr>\n",
       "    <tr>\n",
       "      <th>SRR23195508</th>\n",
       "      <td>?</td>\n",
       "      <td>True</td>\n",
       "      <td>False</td>\n",
       "      <td>Oxy</td>\n",
       "      <td>SNI</td>\n",
       "    </tr>\n",
       "    <tr>\n",
       "      <th>SRR23195509</th>\n",
       "      <td>?</td>\n",
       "      <td>True</td>\n",
       "      <td>False</td>\n",
       "      <td>Oxy</td>\n",
       "      <td>SNI</td>\n",
       "    </tr>\n",
       "  </tbody>\n",
       "</table>\n",
       "</div>"
      ],
      "text/plain": [
       "            Patient  RNA-seq  DNA-seq condition geno_type\n",
       "Run                                                      \n",
       "SRR23195505       ?     True    False       Sal       SNI\n",
       "SRR23195506       ?     True    False       Oxy      Sham\n",
       "SRR23195507       ?     True    False       Sal      Sham\n",
       "SRR23195508       ?     True    False       Oxy       SNI\n",
       "SRR23195509       ?     True    False       Oxy       SNI"
      ]
     },
     "execution_count": 24,
     "metadata": {},
     "output_type": "execute_result"
    }
   ],
   "source": [
    "import pandas as pd\n",
    "import numpy as np\n",
    "\n",
    "df = pd.read_excel(\"conditions_runs_oxy_project.xlsx\", index_col=\"Run\")\n",
    "# Show first rows\n",
    "\n",
    "df = df.fillna(False)\n",
    "df = df.replace(\"x\", True)\n",
    "\n",
    "df['condition'] = np.select(\n",
    "    condlist=[\n",
    "        df[\"condition: Sal\"] == 1,\n",
    "        df[\"Condition: Oxy\"] == 1\n",
    "    ],\n",
    "    choicelist=[\"Sal\", \"Oxy\"],\n",
    "    default=None\n",
    ")\n",
    "    \n",
    "df['geno_type'] = np.select(\n",
    "    condlist=[\n",
    "        df[\"Genotype: SNI\"] == 1,\n",
    "        df[\"Genotype: Sham\"] == 1\n",
    "    ],\n",
    "    choicelist=[\"SNI\", \"Sham\"],\n",
    "    default=None\n",
    ")\n",
    "\n",
    "df = df.drop(columns=[\"condition: Sal\", \"Condition: Oxy\", \"Genotype: SNI\", \"Genotype: Sham\"])\n",
    "\n",
    "df.head()"
   ]
  },
  {
   "cell_type": "code",
   "execution_count": 25,
   "metadata": {},
   "outputs": [
    {
     "data": {
      "application/vnd.microsoft.datawrangler.viewer.v0+json": {
       "columns": [
        {
         "name": "condition",
         "rawType": "object",
         "type": "string"
        },
        {
         "name": "count",
         "rawType": "int64",
         "type": "integer"
        }
       ],
       "ref": "d8544035-be6f-4c4f-921e-cd1dbe1a3e0b",
       "rows": [
        [
         "Sal",
         "8"
        ],
        [
         "Oxy",
         "8"
        ]
       ],
       "shape": {
        "columns": 1,
        "rows": 2
       }
      },
      "text/plain": [
       "condition\n",
       "Sal    8\n",
       "Oxy    8\n",
       "Name: count, dtype: int64"
      ]
     },
     "execution_count": 25,
     "metadata": {},
     "output_type": "execute_result"
    }
   ],
   "source": [
    "df['condition'].value_counts()"
   ]
  },
  {
   "cell_type": "code",
   "execution_count": 26,
   "metadata": {},
   "outputs": [
    {
     "data": {
      "application/vnd.microsoft.datawrangler.viewer.v0+json": {
       "columns": [
        {
         "name": "geno_type",
         "rawType": "object",
         "type": "string"
        },
        {
         "name": "count",
         "rawType": "int64",
         "type": "integer"
        }
       ],
       "ref": "72e340c9-6ba2-4fad-86ec-198bb180d4a9",
       "rows": [
        [
         "SNI",
         "8"
        ],
        [
         "Sham",
         "8"
        ]
       ],
       "shape": {
        "columns": 1,
        "rows": 2
       }
      },
      "text/plain": [
       "geno_type\n",
       "SNI     8\n",
       "Sham    8\n",
       "Name: count, dtype: int64"
      ]
     },
     "execution_count": 26,
     "metadata": {},
     "output_type": "execute_result"
    }
   ],
   "source": [
    "df['geno_type'].value_counts()"
   ]
  },
  {
   "cell_type": "code",
   "execution_count": 27,
   "metadata": {},
   "outputs": [
    {
     "data": {
      "application/vnd.microsoft.datawrangler.viewer.v0+json": {
       "columns": [
        {
         "name": "('condition', 'geno_type')",
         "rawType": "object",
         "type": "unknown"
        },
        {
         "name": "0",
         "rawType": "int64",
         "type": "integer"
        }
       ],
       "ref": "86e9bdc2-0ac6-4538-8e69-ce4bd27d6387",
       "rows": [
        [
         "('Oxy', 'SNI')",
         "4"
        ],
        [
         "('Oxy', 'Sham')",
         "4"
        ],
        [
         "('Sal', 'SNI')",
         "4"
        ],
        [
         "('Sal', 'Sham')",
         "4"
        ]
       ],
       "shape": {
        "columns": 1,
        "rows": 4
       }
      },
      "text/plain": [
       "condition  geno_type\n",
       "Oxy        SNI          4\n",
       "           Sham         4\n",
       "Sal        SNI          4\n",
       "           Sham         4\n",
       "dtype: int64"
      ]
     },
     "execution_count": 27,
     "metadata": {},
     "output_type": "execute_result"
    }
   ],
   "source": [
    "df.groupby(['condition', 'geno_type']).size()"
   ]
  },
  {
   "cell_type": "markdown",
   "metadata": {},
   "source": [
    "They were so kind to also provide you with the information of the number of bases per run, so that you can know how much space the data will take on your Cluster.<br>\n",
    "Add a new column to your fancy table with this information (base_counts.csv) and sort your dataframe according to this information and the condition.\n",
    "\n",
    "Then select the 2 smallest runs from your dataset and download them from SRA (maybe an nf-core pipeline can help here?...)"
   ]
  },
  {
   "cell_type": "code",
   "execution_count": 34,
   "metadata": {},
   "outputs": [
    {
     "data": {
      "application/vnd.microsoft.datawrangler.viewer.v0+json": {
       "columns": [
        {
         "name": "Run",
         "rawType": "object",
         "type": "string"
        },
        {
         "name": "Bases",
         "rawType": "object",
         "type": "string"
        }
       ],
       "ref": "4b46e1c3-e8bc-4c07-b44f-7c2ca88b2ea4",
       "rows": [
        [
         "SRR23195516",
         "6203117700"
        ],
        [
         "SRR23195511",
         "6456390900"
        ],
        [
         "SRR23195517",
         "6863840400"
        ],
        [
         "SRR23195505",
         "6922564500"
        ],
        [
         "SRR23195508",
         "6927786900"
        ],
        [
         "SRR23195519",
         "6996050100"
        ],
        [
         "SRR23195509",
         "7003550100"
        ],
        [
         "SRR23195514",
         "7226808600"
        ],
        [
         "SRR23195510",
         "7377388500"
        ],
        [
         "SRR23195512",
         "7462857900"
        ],
        [
         "SRR23195520",
         "7858146000"
        ],
        [
         "SRR23195506",
         "7859530800"
        ],
        [
         "SRR23195518",
         "7908500400"
        ],
        [
         "SRR23195507",
         "8063298900"
        ],
        [
         "SRR23195513",
         "8099181600"
        ],
        [
         "SRR23195515",
         "8169101700"
        ],
        [
         "Run",
         "Bases"
        ]
       ],
       "shape": {
        "columns": 1,
        "rows": 17
       }
      },
      "text/html": [
       "<div>\n",
       "<style scoped>\n",
       "    .dataframe tbody tr th:only-of-type {\n",
       "        vertical-align: middle;\n",
       "    }\n",
       "\n",
       "    .dataframe tbody tr th {\n",
       "        vertical-align: top;\n",
       "    }\n",
       "\n",
       "    .dataframe thead th {\n",
       "        text-align: right;\n",
       "    }\n",
       "</style>\n",
       "<table border=\"1\" class=\"dataframe\">\n",
       "  <thead>\n",
       "    <tr style=\"text-align: right;\">\n",
       "      <th></th>\n",
       "      <th>Bases</th>\n",
       "    </tr>\n",
       "    <tr>\n",
       "      <th>Run</th>\n",
       "      <th></th>\n",
       "    </tr>\n",
       "  </thead>\n",
       "  <tbody>\n",
       "    <tr>\n",
       "      <th>SRR23195516</th>\n",
       "      <td>6203117700</td>\n",
       "    </tr>\n",
       "    <tr>\n",
       "      <th>SRR23195511</th>\n",
       "      <td>6456390900</td>\n",
       "    </tr>\n",
       "    <tr>\n",
       "      <th>SRR23195517</th>\n",
       "      <td>6863840400</td>\n",
       "    </tr>\n",
       "    <tr>\n",
       "      <th>SRR23195505</th>\n",
       "      <td>6922564500</td>\n",
       "    </tr>\n",
       "    <tr>\n",
       "      <th>SRR23195508</th>\n",
       "      <td>6927786900</td>\n",
       "    </tr>\n",
       "    <tr>\n",
       "      <th>SRR23195519</th>\n",
       "      <td>6996050100</td>\n",
       "    </tr>\n",
       "    <tr>\n",
       "      <th>SRR23195509</th>\n",
       "      <td>7003550100</td>\n",
       "    </tr>\n",
       "    <tr>\n",
       "      <th>SRR23195514</th>\n",
       "      <td>7226808600</td>\n",
       "    </tr>\n",
       "    <tr>\n",
       "      <th>SRR23195510</th>\n",
       "      <td>7377388500</td>\n",
       "    </tr>\n",
       "    <tr>\n",
       "      <th>SRR23195512</th>\n",
       "      <td>7462857900</td>\n",
       "    </tr>\n",
       "    <tr>\n",
       "      <th>SRR23195520</th>\n",
       "      <td>7858146000</td>\n",
       "    </tr>\n",
       "    <tr>\n",
       "      <th>SRR23195506</th>\n",
       "      <td>7859530800</td>\n",
       "    </tr>\n",
       "    <tr>\n",
       "      <th>SRR23195518</th>\n",
       "      <td>7908500400</td>\n",
       "    </tr>\n",
       "    <tr>\n",
       "      <th>SRR23195507</th>\n",
       "      <td>8063298900</td>\n",
       "    </tr>\n",
       "    <tr>\n",
       "      <th>SRR23195513</th>\n",
       "      <td>8099181600</td>\n",
       "    </tr>\n",
       "    <tr>\n",
       "      <th>SRR23195515</th>\n",
       "      <td>8169101700</td>\n",
       "    </tr>\n",
       "    <tr>\n",
       "      <th>Run</th>\n",
       "      <td>Bases</td>\n",
       "    </tr>\n",
       "  </tbody>\n",
       "</table>\n",
       "</div>"
      ],
      "text/plain": [
       "                  Bases\n",
       "Run                    \n",
       "SRR23195516  6203117700\n",
       "SRR23195511  6456390900\n",
       "SRR23195517  6863840400\n",
       "SRR23195505  6922564500\n",
       "SRR23195508  6927786900\n",
       "SRR23195519  6996050100\n",
       "SRR23195509  7003550100\n",
       "SRR23195514  7226808600\n",
       "SRR23195510  7377388500\n",
       "SRR23195512  7462857900\n",
       "SRR23195520  7858146000\n",
       "SRR23195506  7859530800\n",
       "SRR23195518  7908500400\n",
       "SRR23195507  8063298900\n",
       "SRR23195513  8099181600\n",
       "SRR23195515  8169101700\n",
       "Run               Bases"
      ]
     },
     "execution_count": 34,
     "metadata": {},
     "output_type": "execute_result"
    }
   ],
   "source": [
    "base_counts = pd.read_csv(\"base_counts.csv\", names=[\"Run\", \"Bases\"])\n",
    "base_counts = base_counts.set_index(\"Run\")\n",
    "base_counts = base_counts.sort_values(\"Bases\", ascending=True)\n",
    "base_counts"
   ]
  },
  {
   "cell_type": "code",
   "execution_count": 36,
   "metadata": {},
   "outputs": [
    {
     "data": {
      "application/vnd.microsoft.datawrangler.viewer.v0+json": {
       "columns": [
        {
         "name": "Run",
         "rawType": "object",
         "type": "string"
        },
        {
         "name": "Bases",
         "rawType": "object",
         "type": "string"
        }
       ],
       "ref": "57949ed6-a5dd-4ab2-ad0a-732d1aa2abdd",
       "rows": [
        [
         "SRR23195516",
         "6203117700"
        ],
        [
         "SRR23195511",
         "6456390900"
        ]
       ],
       "shape": {
        "columns": 1,
        "rows": 2
       }
      },
      "text/html": [
       "<div>\n",
       "<style scoped>\n",
       "    .dataframe tbody tr th:only-of-type {\n",
       "        vertical-align: middle;\n",
       "    }\n",
       "\n",
       "    .dataframe tbody tr th {\n",
       "        vertical-align: top;\n",
       "    }\n",
       "\n",
       "    .dataframe thead th {\n",
       "        text-align: right;\n",
       "    }\n",
       "</style>\n",
       "<table border=\"1\" class=\"dataframe\">\n",
       "  <thead>\n",
       "    <tr style=\"text-align: right;\">\n",
       "      <th></th>\n",
       "      <th>Bases</th>\n",
       "    </tr>\n",
       "    <tr>\n",
       "      <th>Run</th>\n",
       "      <th></th>\n",
       "    </tr>\n",
       "  </thead>\n",
       "  <tbody>\n",
       "    <tr>\n",
       "      <th>SRR23195516</th>\n",
       "      <td>6203117700</td>\n",
       "    </tr>\n",
       "    <tr>\n",
       "      <th>SRR23195511</th>\n",
       "      <td>6456390900</td>\n",
       "    </tr>\n",
       "  </tbody>\n",
       "</table>\n",
       "</div>"
      ],
      "text/plain": [
       "                  Bases\n",
       "Run                    \n",
       "SRR23195516  6203117700\n",
       "SRR23195511  6456390900"
      ]
     },
     "execution_count": 36,
     "metadata": {},
     "output_type": "execute_result"
    }
   ],
   "source": [
    "base_counts[:2]"
   ]
  },
  {
   "cell_type": "code",
   "execution_count": null,
   "metadata": {},
   "outputs": [],
   "source": [
    "!nextflow run nf-core/fetchngs \\\n",
    "   -profile docker \\\n",
    "   --input ids.csv \\\n",
    "   --outdir fetchngs_out \\\n",
    "   --max_memory \"12.GB\""
   ]
  },
  {
   "cell_type": "markdown",
   "metadata": {},
   "source": [
    "While your files are downloading, get back to the paper and explain how you would try to reproduce the analysis.<br>\n",
    "When you are done with this shout, so we can discuss the different ideas."
   ]
  }
 ],
 "metadata": {
  "kernelspec": {
   "display_name": "computational_workflows",
   "language": "python",
   "name": "python3"
  },
  "language_info": {
   "codemirror_mode": {
    "name": "ipython",
    "version": 3
   },
   "file_extension": ".py",
   "mimetype": "text/x-python",
   "name": "python",
   "nbconvert_exporter": "python",
   "pygments_lexer": "ipython3",
   "version": "3.13.7"
  }
 },
 "nbformat": 4,
 "nbformat_minor": 2
}
